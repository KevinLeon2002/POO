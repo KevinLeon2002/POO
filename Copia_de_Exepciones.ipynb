{
  "nbformat": 4,
  "nbformat_minor": 0,
  "metadata": {
    "colab": {
      "name": "Copia de Exepciones",
      "provenance": [],
      "include_colab_link": true
    },
    "kernelspec": {
      "name": "python3",
      "display_name": "Python 3"
    },
    "language_info": {
      "name": "python"
    }
  },
  "cells": [
    {
      "cell_type": "markdown",
      "metadata": {
        "id": "view-in-github",
        "colab_type": "text"
      },
      "source": [
        "<a href=\"https://colab.research.google.com/github/KevinLeon2002/POO/blob/main/Copia_de_Exepciones.ipynb\" target=\"_parent\"><img src=\"https://colab.research.google.com/assets/colab-badge.svg\" alt=\"Open In Colab\"/></a>"
      ]
    },
    {
      "cell_type": "code",
      "execution_count": 6,
      "metadata": {
        "id": "E4RkxgKRNgsv"
      },
      "outputs": [],
      "source": [
        "def dividir(num,div):\n",
        "  return num/div"
      ]
    },
    {
      "cell_type": "code",
      "source": [
        "dividir(25,0)"
      ],
      "metadata": {
        "id": "SASNHxFbNr8r",
        "colab": {
          "base_uri": "https://localhost:8080/",
          "height": 235
        },
        "outputId": "2e176765-acb3-4d53-8280-567a9b1718cd"
      },
      "execution_count": 8,
      "outputs": [
        {
          "output_type": "error",
          "ename": "ZeroDivisionError",
          "evalue": "ignored",
          "traceback": [
            "\u001b[0;31m---------------------------------------------------------------------------\u001b[0m",
            "\u001b[0;31mZeroDivisionError\u001b[0m                         Traceback (most recent call last)",
            "\u001b[0;32m<ipython-input-8-57b125f38b8c>\u001b[0m in \u001b[0;36m<module>\u001b[0;34m()\u001b[0m\n\u001b[0;32m----> 1\u001b[0;31m \u001b[0mdividir\u001b[0m\u001b[0;34m(\u001b[0m\u001b[0;36m25\u001b[0m\u001b[0;34m,\u001b[0m\u001b[0;36m0\u001b[0m\u001b[0;34m)\u001b[0m\u001b[0;34m\u001b[0m\u001b[0;34m\u001b[0m\u001b[0m\n\u001b[0m",
            "\u001b[0;32m<ipython-input-6-56438d4a8112>\u001b[0m in \u001b[0;36mdividir\u001b[0;34m(num, div)\u001b[0m\n\u001b[1;32m      1\u001b[0m \u001b[0;32mdef\u001b[0m \u001b[0mdividir\u001b[0m\u001b[0;34m(\u001b[0m\u001b[0mnum\u001b[0m\u001b[0;34m,\u001b[0m\u001b[0mdiv\u001b[0m\u001b[0;34m)\u001b[0m\u001b[0;34m:\u001b[0m\u001b[0;34m\u001b[0m\u001b[0;34m\u001b[0m\u001b[0m\n\u001b[0;32m----> 2\u001b[0;31m   \u001b[0;32mreturn\u001b[0m \u001b[0mnum\u001b[0m\u001b[0;34m/\u001b[0m\u001b[0mdiv\u001b[0m\u001b[0;34m\u001b[0m\u001b[0;34m\u001b[0m\u001b[0m\n\u001b[0m",
            "\u001b[0;31mZeroDivisionError\u001b[0m: division by zero"
          ]
        }
      ]
    },
    {
      "cell_type": "markdown",
      "source": [
        "## Ejercicio \n",
        "manejar ZeroDivisionError en Python\n"
      ],
      "metadata": {
        "id": "uo6cTgOoN-UR"
      }
    },
    {
      "cell_type": "markdown",
      "source": [
        "Podemos tratar esta división entre cero como una excepción, haciendo lo siguiente:\n",
        "\n",
        "* Desde el bloque try llama a la función dividir().\n",
        "* En el bloque except tendremos una excepción en caso de que div sea igual a cero.\n",
        "* En este ejemplo se hace una excepción a ZeroDivisionError (el tipo de error) el cual se especifica en except\n",
        "* Cuando se detecte el error ZeroDivisionError se ejecutara el bloque except donde pondremos un mensaje informando que se trató de dividir entre cero.\n",
        "\n",
        "[Código en Python](https://www.w3schools.com/python/python_try_except.asp)"
      ],
      "metadata": {
        "id": "E56E-nYdOHbg"
      }
    },
    {
      "cell_type": "code",
      "source": [
        "try:\n",
        "    #Funcion\n",
        "    resr=dividir(2,0)\n",
        "    #Imprimir resultado\n",
        "    print(res)\n",
        "except ZeroDivisionError:\n",
        "    # imprimir mensaje\n",
        "    print(\"Division por cero\")\n"
      ],
      "metadata": {
        "id": "CdpxhRo3O04G",
        "colab": {
          "base_uri": "https://localhost:8080/"
        },
        "outputId": "22bfad84-c17a-4848-abf9-a33522e7dfef"
      },
      "execution_count": 9,
      "outputs": [
        {
          "output_type": "stream",
          "name": "stdout",
          "text": [
            "Division por cero\n"
          ]
        }
      ]
    }
  ]
}